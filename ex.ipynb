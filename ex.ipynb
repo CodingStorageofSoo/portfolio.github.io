{
 "cells": [
  {
   "cell_type": "code",
   "execution_count": null,
   "metadata": {},
   "outputs": [],
   "source": [
    "graph = {\n",
    "    'a': {'e': {'none': 1}},\n",
    "    'b': {'e': {'none': 2}},\n",
    "    'c': {'e': {'none': 3}},\n",
    "    'd': {'e': {'none': 4}},\n",
    "    'e': {'a': {'b': 2, \"c\" :3, \"d\": 4}, 'd': {'a': 2, \"b\" : 3, \"c\": 4}, 'c':  {'d': 2, \"a\" : 3, \"b\": 3}, 'b':  {'c': 2, \"d\" :3, \"a\": 4}},\n",
    "}"
   ]
  },
  {
   "cell_type": "code",
   "execution_count": null,
   "metadata": {},
   "outputs": [],
   "source": [
    "graph = {\n",
    "    'a': {'d': {'none': 3}},\n",
    "    'd': {'a': {'e': 2, \"g\" :3, \"c\": 4}, 'c': {'a': 2, \"e\" : 3, \"g\": 4}, 'g':  {'c': 2, \"a\" : 3, \"e\": 4}, 'e':  {'g': 2, \"c\" :3, \"a\": 4}},\n",
    "    'e': {'b': {'f': 2, \"h\" :3, \"d\": 4}, 'd': {'b': 2, \"f\" : 3, \"h\": 4}, 'h':  {'d': 2, \"b\" : 3, \"f\": 3}, 'f':  {'h': 2, \"d\" :3, \"b\": 4}},\n",
    "    'h': {'b': {'f': 2, \"h\" :3, \"d\": 4}, 'd': {'b': 2, \"f\" : 3, \"h\": 4}, 'h':  {'d': 2, \"b\" : 3, \"f\": 3}, 'f':  {'h': 2, \"d\" :3, \"b\": 4}},\n",
    "    'f': {'b': {'f': 2, \"h\" :3, \"d\": 4}, 'd': {'b': 2, \"f\" : 3, \"h\": 4}, 'h':  {'d': 2, \"b\" : 3, \"f\": 3}, 'f':  {'h': 2, \"d\" :3, \"b\": 4}},\n",
    "\n",
    "}"
   ]
  },
  {
   "cell_type": "code",
   "execution_count": 5,
   "metadata": {},
   "outputs": [],
   "source": [
    "\n",
    "grid = [\n",
    "    [1, 2, 1],\n",
    "    [2, 1, 2],\n",
    "    [1, 2, 1]\n",
    "]"
   ]
  },
  {
   "cell_type": "code",
   "execution_count": 6,
   "metadata": {},
   "outputs": [],
   "source": [
    "def create_graph(grid):\n",
    "    rows, cols = len(grid), len(grid[0])\n",
    "    graph = {}\n",
    "\n",
    "    # 가능한 이동 방향: 위, 오른쪽, 아래, 왼쪽\n",
    "    directions = [(-1, 0), (0, 1), (1, 0), (0, -1)]\n",
    "\n",
    "    for x in range(rows):\n",
    "        for y in range(cols):\n",
    "            node = (x, y)\n",
    "            graph[node] = {}\n",
    "            for dx, dy in directions:\n",
    "                nx, ny = x + dx, y + dy\n",
    "                if 0 <= nx < rows and 0 <= ny < cols:\n",
    "                    graph[node][(nx, ny)] = grid[nx][ny]\n",
    "\n",
    "    return graph\n"
   ]
  },
  {
   "cell_type": "code",
   "execution_count": 7,
   "metadata": {},
   "outputs": [],
   "source": [
    "graph = create_graph(grid)"
   ]
  },
  {
   "cell_type": "code",
   "execution_count": 8,
   "metadata": {},
   "outputs": [
    {
     "data": {
      "text/plain": [
       "{(0, 0): {(0, 1): 2, (1, 0): 2},\n",
       " (0, 1): {(0, 2): 1, (1, 1): 1, (0, 0): 1},\n",
       " (0, 2): {(1, 2): 2, (0, 1): 2},\n",
       " (1, 0): {(0, 0): 1, (1, 1): 1, (2, 0): 1},\n",
       " (1, 1): {(0, 1): 2, (1, 2): 2, (2, 1): 2, (1, 0): 2},\n",
       " (1, 2): {(0, 2): 1, (2, 2): 1, (1, 1): 1},\n",
       " (2, 0): {(1, 0): 2, (2, 1): 2},\n",
       " (2, 1): {(1, 1): 1, (2, 2): 1, (2, 0): 1},\n",
       " (2, 2): {(1, 2): 2, (2, 1): 2}}"
      ]
     },
     "execution_count": 8,
     "metadata": {},
     "output_type": "execute_result"
    }
   ],
   "source": [
    "graph\n"
   ]
  },
  {
   "cell_type": "code",
   "execution_count": 9,
   "metadata": {},
   "outputs": [],
   "source": [
    "import heapq\n",
    "\n",
    "def dijkstra(graph, start, end):\n",
    "    distances = {node: float('infinity') for node in graph}\n",
    "    distances[start] = 0\n",
    "    queue = [(0, start)]\n",
    "\n",
    "    while queue:\n",
    "        current_distance, current_node = heapq.heappop(queue)\n",
    "\n",
    "        if current_distance > distances[current_node]:\n",
    "            continue\n",
    "\n",
    "        for adjacent, weight in graph[current_node].items():\n",
    "            distance = current_distance + weight\n",
    "\n",
    "            if distance < distances[adjacent]:\n",
    "                distances[adjacent] = distance\n",
    "                heapq.heappush(queue, (distance, adjacent))\n",
    "\n",
    "    return distances[end]"
   ]
  },
  {
   "cell_type": "code",
   "execution_count": 10,
   "metadata": {},
   "outputs": [
    {
     "data": {
      "text/plain": [
       "6"
      ]
     },
     "execution_count": 10,
     "metadata": {},
     "output_type": "execute_result"
    }
   ],
   "source": [
    "dijkstra(graph, (0,0), (2,2))\n"
   ]
  },
  {
   "cell_type": "code",
   "execution_count": 11,
   "metadata": {},
   "outputs": [],
   "source": [
    "import heapq\n",
    "\n",
    "def dijkstra(graph, start, end):\n",
    "    distances = {node: float('infinity') for node in graph}\n",
    "    distances[start] = 0\n",
    "    queue = [(0, start)]\n",
    "\n",
    "    while queue:\n",
    "        current_distance, current_node = heapq.heappop(queue)\n",
    "\n",
    "        if current_distance > distances[current_node]:\n",
    "            continue\n",
    "\n",
    "        for adjacent, weight in graph[current_node].items():\n",
    "            distance = current_distance + weight\n",
    "\n",
    "            if distance < distances[adjacent]:\n",
    "                distances[adjacent] = distance\n",
    "                heapq.heappush(queue, (distance, adjacent))\n",
    "\n",
    "    return distances[end]\n",
    "\n",
    "def create_graph(grid):\n",
    "    rows, cols = len(grid), len(grid[0])\n",
    "    graph = {}\n",
    "\n",
    "    # 방향: 위(0), 오른쪽(1), 아래(2), 왼쪽(3)\n",
    "    directions = [(-1, 0), (0, 1), (1, 0), (0, -1)]\n",
    "    turning_cost = {1: 1, -1: 3, 0: 2}\n",
    "\n",
    "    for x in range(rows):\n",
    "        for y in range(cols):\n",
    "            for d in range(4):\n",
    "                node = (x, y, d)\n",
    "                graph[node] = {}\n",
    "\n",
    "                for turn, cost in turning_cost.items():\n",
    "                    new_d = (d + turn) % 4\n",
    "                    dx, dy = directions[new_d]\n",
    "                    nx, ny = x + dx, y + dy\n",
    "\n",
    "                    if 0 <= nx < rows and 0 <= ny < cols:\n",
    "                        move_cost = grid[nx][ny] + cost\n",
    "                        graph[node][(nx, ny, new_d)] = move_cost\n",
    "\n",
    "    return graph\n",
    "\n",
    "grid = [\n",
    "    [1, 2, 1],\n",
    "    [2, 1, 2],\n",
    "    [1, 2, 1]\n",
    "]\n",
    "\n",
    "graph = create_graph(grid)\n"
   ]
  },
  {
   "cell_type": "code",
   "execution_count": 12,
   "metadata": {},
   "outputs": [
    {
     "data": {
      "text/plain": [
       "{(0, 0, 0): {(0, 1, 1): 3},\n",
       " (0, 0, 1): {(1, 0, 2): 3, (0, 1, 1): 4},\n",
       " (0, 0, 2): {(0, 1, 1): 5, (1, 0, 2): 4},\n",
       " (0, 0, 3): {(1, 0, 2): 5},\n",
       " (0, 1, 0): {(0, 2, 1): 2, (0, 0, 3): 4},\n",
       " (0, 1, 1): {(1, 1, 2): 2, (0, 2, 1): 3},\n",
       " (0, 1, 2): {(0, 0, 3): 2, (0, 2, 1): 4, (1, 1, 2): 3},\n",
       " (0, 1, 3): {(1, 1, 2): 4, (0, 0, 3): 3},\n",
       " (0, 2, 0): {(0, 1, 3): 5},\n",
       " (0, 2, 1): {(1, 2, 2): 3},\n",
       " (0, 2, 2): {(0, 1, 3): 3, (1, 2, 2): 4},\n",
       " (0, 2, 3): {(1, 2, 2): 5, (0, 1, 3): 4},\n",
       " (1, 0, 0): {(1, 1, 1): 2, (0, 0, 0): 3},\n",
       " (1, 0, 1): {(2, 0, 2): 2, (0, 0, 0): 4, (1, 1, 1): 3},\n",
       " (1, 0, 2): {(1, 1, 1): 4, (2, 0, 2): 3},\n",
       " (1, 0, 3): {(0, 0, 0): 2, (2, 0, 2): 4},\n",
       " (1, 1, 0): {(1, 2, 1): 3, (1, 0, 3): 5, (0, 1, 0): 4},\n",
       " (1, 1, 1): {(2, 1, 2): 3, (0, 1, 0): 5, (1, 2, 1): 4},\n",
       " (1, 1, 2): {(1, 0, 3): 3, (1, 2, 1): 5, (2, 1, 2): 4},\n",
       " (1, 1, 3): {(0, 1, 0): 3, (2, 1, 2): 5, (1, 0, 3): 4},\n",
       " (1, 2, 0): {(1, 1, 3): 4, (0, 2, 0): 3},\n",
       " (1, 2, 1): {(2, 2, 2): 2, (0, 2, 0): 4},\n",
       " (1, 2, 2): {(1, 1, 3): 2, (2, 2, 2): 3},\n",
       " (1, 2, 3): {(0, 2, 0): 2, (2, 2, 2): 4, (1, 1, 3): 3},\n",
       " (2, 0, 0): {(2, 1, 1): 3, (1, 0, 0): 4},\n",
       " (2, 0, 1): {(1, 0, 0): 5, (2, 1, 1): 4},\n",
       " (2, 0, 2): {(2, 1, 1): 5},\n",
       " (2, 0, 3): {(1, 0, 0): 3},\n",
       " (2, 1, 0): {(2, 2, 1): 2, (2, 0, 3): 4, (1, 1, 0): 3},\n",
       " (2, 1, 1): {(1, 1, 0): 4, (2, 2, 1): 3},\n",
       " (2, 1, 2): {(2, 0, 3): 2, (2, 2, 1): 4},\n",
       " (2, 1, 3): {(1, 1, 0): 2, (2, 0, 3): 3},\n",
       " (2, 2, 0): {(2, 1, 3): 5, (1, 2, 0): 4},\n",
       " (2, 2, 1): {(1, 2, 0): 5},\n",
       " (2, 2, 2): {(2, 1, 3): 3},\n",
       " (2, 2, 3): {(1, 2, 0): 3, (2, 1, 3): 4}}"
      ]
     },
     "execution_count": 12,
     "metadata": {},
     "output_type": "execute_result"
    }
   ],
   "source": [
    "graph"
   ]
  },
  {
   "cell_type": "code",
   "execution_count": 13,
   "metadata": {},
   "outputs": [
    {
     "name": "stdout",
     "output_type": "stream",
     "text": [
      "14\n"
     ]
    }
   ],
   "source": [
    "\n",
    "start = (0, 0, 1)  # Starting pointing right\n",
    "end = (2, 2, 1)   # Just specifying the end position and direction\n",
    "print(dijkstra(graph, start, end))"
   ]
  },
  {
   "cell_type": "code",
   "execution_count": null,
   "metadata": {},
   "outputs": [],
   "source": []
  }
 ],
 "metadata": {
  "kernelspec": {
   "display_name": "Python 3",
   "language": "python",
   "name": "python3"
  },
  "language_info": {
   "codemirror_mode": {
    "name": "ipython",
    "version": 3
   },
   "file_extension": ".py",
   "mimetype": "text/x-python",
   "name": "python",
   "nbconvert_exporter": "python",
   "pygments_lexer": "ipython3",
   "version": "3.10.12"
  },
  "orig_nbformat": 4
 },
 "nbformat": 4,
 "nbformat_minor": 2
}
